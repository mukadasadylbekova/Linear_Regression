{
 "cells": [
  {
   "cell_type": "code",
   "execution_count": 35,
   "id": "9bed6d8d-7f47-4159-9945-55514a8b5a6c",
   "metadata": {},
   "outputs": [
    {
     "data": {
      "image/png": "[encoded data removed]",
      "text/plain": [
       "<Figure size 640x480 with 1 Axes>"
      ]
     },
     "metadata": {},
     "output_type": "display_data"
    }
   ],
   "source": [
    "import sys\n",
    "import matplotlib\n",
    "matplotlib.use('Agg')\n",
    "%matplotlib inline\n",
    "import pandas as pd\n",
    "import matplotlib.pyplot as plt\n",
    "from scipy import stats\n",
    "\n",
    "full_study_data = pd.read_csv(\"studentsscore.csv\", header=0, sep=\",\")\n",
    "\n",
    "x = full_study_data[\"Prep_Exams\"]\n",
    "y = full_study_data[\"Study_Hours\"]\n",
    "\n",
    "slope, intercept, r, p, std_err = stats.linregress(x, y)\n",
    "\n",
    "def myfunc(x):\n",
    " return slope * x + intercept\n",
    "\n",
    "mymodel = list(map(myfunc, x))\n",
    "\n",
    "plt.scatter(x, y)\n",
    "plt.plot(x, mymodel)\n",
    "plt.ylim(ymin=0, ymax=25)\n",
    "plt.xlim(xmin=0, xmax=20)\n",
    "plt.xlabel(\"Prep_Exams\")\n",
    "plt.ylabel (\"Study_Hours\")\n",
    "plt.show()"
   ]
  },
  {
   "cell_type": "code",
   "execution_count": 36,
   "id": "c15cf303-f6c0-4433-ab98-234c66ce5634",
   "metadata": {},
   "outputs": [
    {
     "name": "stdout",
     "output_type": "stream",
     "text": [
      "                            OLS Regression Results                            \n",
      "==============================================================================\n",
      "Dep. Variable:            Study_Hours   R-squared:                       0.469\n",
      "Model:                            OLS   Adj. R-squared:                  0.416\n",
      "Method:                 Least Squares   F-statistic:                     8.827\n",
      "Date:                Fri, 26 Apr 2024   Prob (F-statistic):             0.0140\n",
      "Time:                        10:01:23   Log-Likelihood:                -32.823\n",
      "No. Observations:                  12   AIC:                             69.65\n",
      "Df Residuals:                      10   BIC:                             70.61\n",
      "Df Model:                           1                                         \n",
      "Covariance Type:            nonrobust                                         \n",
      "===============================================================================\n",
      "                  coef    std err          t      P>|t|      [0.025      0.975]\n",
      "-------------------------------------------------------------------------------\n",
      "Intercept     -22.5840     10.612     -2.128      0.059     -46.229       1.061\n",
      "Exams_Score     0.3783      0.127      2.971      0.014       0.095       0.662\n",
      "==============================================================================\n",
      "Omnibus:                        0.523   Durbin-Watson:                   2.276\n",
      "Prob(Omnibus):                  0.770   Jarque-Bera (JB):                0.400\n",
      "Skew:                           0.374   Prob(JB):                        0.819\n",
      "Kurtosis:                       2.510   Cond. No.                         750.\n",
      "==============================================================================\n",
      "\n",
      "Notes:\n",
      "[1] Standard Errors assume that the covariance matrix of the errors is correctly specified.\n"
     ]
    },
    {
     "name": "stderr",
     "output_type": "stream",
     "text": [
      "C:\\Users\\Mukadas\\AppData\\Local\\Programs\\Python\\Python312\\Lib\\site-packages\\scipy\\stats\\_axis_nan_policy.py:531: UserWarning: kurtosistest only valid for n>=20 ... continuing anyway, n=12\n",
      "  res = hypotest_fun_out(*samples, **kwds)\n"
     ]
    }
   ],
   "source": [
    "import pandas as pd\n",
    "import statsmodels.formula.api as smf\n",
    "\n",
    "full_study_data = pd.read_csv(\"studentsscore.csv\", header=0, sep=\",\")\n",
    "\n",
    "model = smf.ols('Study_Hours ~ Exams_Score', data = full_study_data)\n",
    "results = model.fit()\n",
    "print(results.summary())\n"
   ]
  },
  {
   "cell_type": "code",
   "execution_count": 8,
   "id": "3bc79542-9aa7-459a-8eb3-cfef03efcf22",
   "metadata": {},
   "outputs": [
    {
     "name": "stdout",
     "output_type": "stream",
     "text": [
      "6.166800000000002\n",
      "10.706400000000006\n",
      "11.463000000000005\n"
     ]
    }
   ],
   "source": [
    "def Predict_Study_Hours(Exams_Score):\n",
    " return(0.3783*Exams_Score - 22.5840)\n",
    "\n",
    "print(Predict_Study_Hours(76))\n",
    "print(Predict_Study_Hours(88))\n",
    "print(Predict_Study_Hours(90))"
   ]
  },
  {
   "cell_type": "code",
   "execution_count": 10,
   "id": "19c799f9-184c-4495-ae89-10a3217965f8",
   "metadata": {},
   "outputs": [
    {
     "name": "stdout",
     "output_type": "stream",
     "text": [
      "                            OLS Regression Results                            \n",
      "==============================================================================\n",
      "Dep. Variable:            Study_Hours   R-squared:                       0.528\n",
      "Model:                            OLS   Adj. R-squared:                  0.423\n",
      "Method:                 Least Squares   F-statistic:                     5.027\n",
      "Date:                Sun, 28 Apr 2024   Prob (F-statistic):             0.0342\n",
      "Time:                        00:07:52   Log-Likelihood:                -32.119\n",
      "No. Observations:                  12   AIC:                             70.24\n",
      "Df Residuals:                       9   BIC:                             71.69\n",
      "Df Model:                           2                                         \n",
      "Covariance Type:            nonrobust                                         \n",
      "===============================================================================\n",
      "                  coef    std err          t      P>|t|      [0.025      0.975]\n",
      "-------------------------------------------------------------------------------\n",
      "Intercept     -21.9179     10.568     -2.074      0.068     -45.823       1.988\n",
      "Prep_Exams     -0.6034      0.570     -1.058      0.317      -1.893       0.686\n",
      "Exams_Score     0.3994      0.128      3.117      0.012       0.110       0.689\n",
      "==============================================================================\n",
      "Omnibus:                        0.134   Durbin-Watson:                   1.780\n",
      "Prob(Omnibus):                  0.935   Jarque-Bera (JB):                0.348\n",
      "Skew:                           0.018   Prob(JB):                        0.840\n",
      "Kurtosis:                       2.166   Cond. No.                         752.\n",
      "==============================================================================\n",
      "\n",
      "Notes:\n",
      "[1] Standard Errors assume that the covariance matrix of the errors is correctly specified.\n"
     ]
    },
    {
     "name": "stderr",
     "output_type": "stream",
     "text": [
      "C:\\Users\\Mukadas\\AppData\\Local\\Programs\\Python\\Python312\\Lib\\site-packages\\scipy\\stats\\_axis_nan_policy.py:531: UserWarning: kurtosistest only valid for n>=20 ... continuing anyway, n=12\n",
      "  res = hypotest_fun_out(*samples, **kwds)\n"
     ]
    }
   ],
   "source": [
    "import pandas as pd\n",
    "import statsmodels.formula.api as smf\n",
    "\n",
    "full_study_data = pd.read_csv(\"studentsscore.csv\", header=0, sep=\",\")\n",
    "\n",
    "model = smf.ols('Study_Hours ~ Prep_Exams + Exams_Score', data = full_study_data)\n",
    "results = model.fit()\n",
    "print(results.summary())\n"
   ]
  },
  {
   "cell_type": "code",
   "execution_count": 13,
   "id": "8848ae10-6634-4c76-83e3-2e8d7b3316d4",
   "metadata": {},
   "outputs": [
    {
     "name": "stdout",
     "output_type": "stream",
     "text": [
      "7.229699999999998\n",
      "9.608899999999998\n",
      "12.999500000000001\n"
     ]
    }
   ],
   "source": [
    "def Predict_Study_Hours(Prep_Exams , Exams_Score):\n",
    " return(-0.6034*Prep_Exams + 0.3994 * Exams_Score - 21.9179)\n",
    "\n",
    "print(Predict_Study_Hours(2,76))\n",
    "print(Predict_Study_Hours(6,88))\n",
    "print(Predict_Study_Hours(7,98))"
   ]
  },
  {
   "cell_type": "code",
   "execution_count": null,
   "id": "278a2436-2a5a-4d3d-a1aa-6cb1ce0828f1",
   "metadata": {},
   "outputs": [],
   "source": []
  }
 ],
 "metadata": {
  "kernelspec": {
   "display_name": "Python 3 (ipykernel)",
   "language": "python",
   "name": "python3"
  },
  "language_info": {
   "codemirror_mode": {
    "name": "ipython",
    "version": 3
   },
   "file_extension": ".py",
   "mimetype": "text/x-python",
   "name": "python",
   "nbconvert_exporter": "python",
   "pygments_lexer": "ipython3",
   "version": "3.12.2"
  }
 },
 "nbformat": 4,
 "nbformat_minor": 5
}
